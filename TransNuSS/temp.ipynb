{
 "cells": [
  {
   "cell_type": "code",
   "execution_count": 1,
   "metadata": {},
   "outputs": [
    {
     "ename": "ModuleNotFoundError",
     "evalue": "No module named 'ml_collections'",
     "output_type": "error",
     "traceback": [
      "\u001b[0;31m---------------------------------------------------------------------------\u001b[0m",
      "\u001b[0;31mModuleNotFoundError\u001b[0m                       Traceback (most recent call last)",
      "Cell \u001b[0;32mIn[1], line 6\u001b[0m\n\u001b[1;32m      4\u001b[0m \u001b[38;5;28;01mimport\u001b[39;00m \u001b[38;5;21;01mtorch\u001b[39;00m\n\u001b[1;32m      5\u001b[0m \u001b[38;5;28;01mimport\u001b[39;00m \u001b[38;5;21;01mtorch\u001b[39;00m\u001b[38;5;21;01m.\u001b[39;00m\u001b[38;5;21;01mnn\u001b[39;00m \u001b[38;5;28;01mas\u001b[39;00m \u001b[38;5;21;01mnn\u001b[39;00m\n\u001b[0;32m----> 6\u001b[0m \u001b[38;5;28;01mfrom\u001b[39;00m \u001b[38;5;21;01mnetworks\u001b[39;00m\u001b[38;5;21;01m.\u001b[39;00m\u001b[38;5;21;01mvit_seg_modeling\u001b[39;00m \u001b[38;5;28;01mimport\u001b[39;00m VisionTransformer \u001b[38;5;28;01mas\u001b[39;00m ViT\n\u001b[1;32m      7\u001b[0m \u001b[38;5;28;01mfrom\u001b[39;00m \u001b[38;5;21;01mnetworks\u001b[39;00m\u001b[38;5;21;01m.\u001b[39;00m\u001b[38;5;21;01mvit_seg_modeling\u001b[39;00m \u001b[38;5;28;01mimport\u001b[39;00m CONFIGS \u001b[38;5;28;01mas\u001b[39;00m CONFIGS_ViT_seg\n",
      "File \u001b[0;32m~/Disk/HistologyNet/TransNuSS/networks/vit_seg_modeling.py:19\u001b[0m\n\u001b[1;32m     17\u001b[0m \u001b[38;5;28;01mfrom\u001b[39;00m \u001b[38;5;21;01mtorch\u001b[39;00m\u001b[38;5;21;01m.\u001b[39;00m\u001b[38;5;21;01mnn\u001b[39;00m\u001b[38;5;21;01m.\u001b[39;00m\u001b[38;5;21;01mmodules\u001b[39;00m\u001b[38;5;21;01m.\u001b[39;00m\u001b[38;5;21;01mutils\u001b[39;00m \u001b[38;5;28;01mimport\u001b[39;00m _pair\n\u001b[1;32m     18\u001b[0m \u001b[38;5;28;01mfrom\u001b[39;00m \u001b[38;5;21;01mscipy\u001b[39;00m \u001b[38;5;28;01mimport\u001b[39;00m ndimage\n\u001b[0;32m---> 19\u001b[0m \u001b[38;5;28;01mfrom\u001b[39;00m \u001b[38;5;21;01m.\u001b[39;00m \u001b[38;5;28;01mimport\u001b[39;00m vit_seg_configs \u001b[38;5;28;01mas\u001b[39;00m configs\n\u001b[1;32m     20\u001b[0m \u001b[38;5;28;01mfrom\u001b[39;00m \u001b[38;5;21;01m.\u001b[39;00m\u001b[38;5;21;01mvit_seg_modeling_resnet_skip\u001b[39;00m \u001b[38;5;28;01mimport\u001b[39;00m ResNetV2\n\u001b[1;32m     21\u001b[0m \u001b[38;5;28;01mimport\u001b[39;00m \u001b[38;5;21;01mtorch\u001b[39;00m\u001b[38;5;21;01m.\u001b[39;00m\u001b[38;5;21;01mnn\u001b[39;00m\u001b[38;5;21;01m.\u001b[39;00m\u001b[38;5;21;01mfunctional\u001b[39;00m \u001b[38;5;28;01mas\u001b[39;00m \u001b[38;5;21;01mF\u001b[39;00m\n",
      "File \u001b[0;32m~/Disk/HistologyNet/TransNuSS/networks/vit_seg_configs.py:1\u001b[0m\n\u001b[0;32m----> 1\u001b[0m \u001b[38;5;28;01mimport\u001b[39;00m \u001b[38;5;21;01mml_collections\u001b[39;00m\n\u001b[1;32m      3\u001b[0m \u001b[38;5;28;01mdef\u001b[39;00m \u001b[38;5;21mget_b16_config\u001b[39m():\n\u001b[1;32m      4\u001b[0m \u001b[38;5;250m    \u001b[39m\u001b[38;5;124;03m\"\"\"Returns the ViT-B/16 configuration.\"\"\"\u001b[39;00m\n",
      "\u001b[0;31mModuleNotFoundError\u001b[0m: No module named 'ml_collections'"
     ]
    }
   ],
   "source": [
    "from PIL import Image\n",
    "import numpy as np\n",
    "import matplotlib.pyplot as plt\n",
    "import torch\n",
    "import torch.nn as nn\n",
    "from networks.vit_seg_modeling import VisionTransformer as ViT\n",
    "from networks.vit_seg_modeling import CONFIGS as CONFIGS_ViT_seg"
   ]
  },
  {
   "cell_type": "code",
   "execution_count": 22,
   "metadata": {},
   "outputs": [],
   "source": [
    "config_vit = CONFIGS_ViT_seg['R50-ViT-B_16']\n",
    "config_vit.n_classes = 2\n",
    "config_vit.n_skip = 3\n",
    "config_vit.patches.size = (16,16)\n",
    "config_vit.patches.grid = (int(16), int(16))\n",
    "transnuss = ViT(config_vit, 256, 2)\n",
    "class Model_(nn.Module):\n",
    "    def __init__(self, transnuss: nn.Module, color_unet: nn.Module, str_unet: nn.Module):\n",
    "        self.transnuss = transnuss\n",
    "        self.color_unet = color_unet\n",
    "        self.str_unet = str_unet\n",
    "        # self.patch_model.load_state_dict(torch.load(t_checkpoint))\n",
    "        # self.color_unet.load_state_dict(torch.load(c_checkpoint))\n",
    "        # self.str_unet.load_state_dict(torch.load(s_checkpoint))\n",
    "        self.conv_layer = nn.Sequential(nn.Conv2d(1, 8, 3, 1, 1),\n",
    "                                        nn.ELU(),\n",
    "                                        nn.BatchNorm2d(8),\n",
    "                                        nn.Conv2d(8, 1, 3, 1, 1),\n",
    "                                        nn.Sigmoid())\n",
    "\n",
    "    def forward(self, x):\n",
    "        tr_out = self.transnuss(x)\n",
    "        unet_out = self.color_unet(x)\n",
    "        st_out = self.str_unet(x)\n",
    "        return self.conv_layer(torch.stack((patch_out, unet_out), dim=1))"
   ]
  },
  {
   "cell_type": "code",
   "execution_count": null,
   "metadata": {},
   "outputs": [],
   "source": [
    "\n"
   ]
  }
 ],
 "metadata": {
  "kernelspec": {
   "display_name": "Python 3",
   "language": "python",
   "name": "python3"
  },
  "language_info": {
   "codemirror_mode": {
    "name": "ipython",
    "version": 3
   },
   "file_extension": ".py",
   "mimetype": "text/x-python",
   "name": "python",
   "nbconvert_exporter": "python",
   "pygments_lexer": "ipython3",
   "version": "3.12.2"
  }
 },
 "nbformat": 4,
 "nbformat_minor": 2
}
